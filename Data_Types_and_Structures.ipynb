{
  "cells": [
    {
      "cell_type": "markdown",
      "source": [
        "#Theory Question"
      ],
      "metadata": {
        "id": "EZB5CftSBJzv"
      }
    },
    {
      "cell_type": "markdown",
      "source": [
        "**1. What are data structures, and why are they important ?**\n",
        "- A data structure is a way of organizing, storing, and managing data so it can be used efficiently.\n",
        "It is important because,\n",
        "* Efficiency: Choosing the right data structure makes data retrieval, insertion, or updates faster.\n",
        "* Memory Management: Proper structures avoid waste of memory.\n",
        "* Scalability: For large datasets (like in BI), efficient structures prevent performance bottlenecks.\n",
        "* Problem Solving: Many algorithms (searching, sorting, graph traversal, etc.) depend on appropriate data structures\n",
        "\n",
        "\n",
        "**2. Explain the difference between mutable and immutable data types with examples?**\n",
        " - Mutable: Can be changed after creation.\n",
        "\n",
        " Example: list1 = [1,2,3]; list1[0] = 100 → [100,2,3]\n",
        "- Immutable: Cannot be changed after creation.\n",
        "\n",
        "Example: str1 = \"hello\"; str1[0] = 'H' (error)\n",
        "\n",
        "**3. What are the main differences between lists and tuples in Python?**\n",
        " - List: Mutable, slower, uses more memory, enclosed in [].\n",
        "\n",
        "- Tuple: Immutable, faster, memory-efficient, enclosed in ()\n",
        "\n",
        "**4. Describe how dictionaries store data?**\n",
        "  - Dictionaries use a hash table internally. Each key is hashed → mapped to an index → stores a (key, value) pair. This makes lookups very fast (average O(1)).\n",
        "\n",
        "**5. Why might you use a set instead of a list in Python?**\n",
        "  - Sets remove duplicates automatically.\n",
        "\n",
        "  - Membership checking (x in set) is much faster (O(1)) than in lists (O(n)).\n",
        "\n",
        "**6. What is a string in Python, and how is it different from a list?**\n",
        " - A string is a sequence of characters (immutable).\n",
        "\n",
        " - A list is a sequence of elements (mutable, can store mixed data types).\n",
        "\n",
        "**7. How do tuples ensure data integrity in Python?**\n",
        " - Tuples are immutable, so once created, their contents cannot be altered. This makes them reliable for storing fixed data like database keys or configuration values.\n",
        "\n",
        "**8.What is a hash table, and how does it relate to dictionaries in Python ?**\n",
        "- A hash table is a structure that stores key–value pairs using hash functions.\n",
        "- Python dictionaries are implemented as hash tables.\n",
        "\n",
        "**9. Can lists contain different data types in Python ?**\n",
        "- Yes.\n",
        "\n",
        "    Example: my_list = [1, \"hello\", 3.14, True]\n",
        "\n",
        "**10.Explain why strings are immutable in Python?**\n",
        "- Strings are immutable for security, caching, and thread-safety.\n",
        "\n",
        "    Example: Two identical strings may point to the same memory location (interning). If strings were mutable, this would break.\n",
        "\n",
        "**11. What advantages do dictionaries offer over lists for certain tasks?**\n",
        " -  Fast lookups (O(1)) using keys.\n",
        "\n",
        "    Keys make data self-descriptive.\n",
        "\n",
        "    Better for mapping relationships (id → name).\n",
        "    \n",
        "**12. Describe a scenario where using a tuple would be preferable over a list?**\n",
        " - When storing fixed data that shouldn’t change, e.g., coordinates (x, y) or days of the week.\n",
        "\n",
        "    Tuples can also be used as dictionary keys, lists cannot.\n",
        "\n",
        "**13. How do sets handle duplicate values in Python?**\n",
        " - When you add duplicate values to a set, Python automatically removes duplicates and only keeps one instance of each value\n",
        "  \n",
        "    ex: set1 = {1,2,2,3}  # result → {1,2,3}\n",
        "\n",
        "\n",
        "**14 How does the “in” keyword work differently for lists and dictionaries**?\n",
        "- For Lists:\n",
        "\n",
        "    The in keyword checks if a value exists inside the list.\n",
        "\n",
        "    Time complexity: O(n) (linear search).\n",
        "- For Dictionaries:\n",
        "\n",
        "    The in keyword checks if a key exists in the dictionary, not the value.\n",
        "    Time complexity: O(1) on average (hash table lookup).\n",
        "\n",
        "**15. Can you modify the elements of a tuple? Explain why or why not**?\n",
        "- No , Tuples are immutable, so elements cannot be reassigned.\n",
        "\n",
        "    example: t = (1,2,3)\n",
        "    \n",
        "    t[0] = 10  # Error\n",
        "\n",
        "**16.What is a nested dictionary, and give an example of its use case**?\n",
        "- A nested dictionary in Python is simply a dictionary inside another dictionary.\n",
        "\n",
        "    It allows you to store data in a hierarchical (multi-level) structure, where each key can map to another dictionary instead of just a single value.\n",
        "   Example:\n",
        "    reports = {\n",
        "    \"SalesReport\": {\"owner\": \"John\", \"refresh\": \"daily\", \"data_source\": \"SQL_DB\"},\n",
        "    \"HRReport\": {\"owner\": \"Sara\", \"refresh\": \"weekly\", \"data_source\": \"Excel\"}}\n",
        "\n",
        "**17. Describe the time complexity of accessing elements in a dictionary**?\n",
        "Average Case:\n",
        "O(1) → constant time\n",
        "Because hash lookups don’t depend on dictionary size.\n",
        "\n",
        "Worst Case (rare):\n",
        "O(n) → linear time\n",
        "\n",
        "This happens if there are many hash collisions (different keys mapping to the same hash bucket). Python uses strategies like open addressing and rehashing to minimize this.\n",
        "\n",
        "**18.  In what situations are lists preferred over dictionaries**?\n",
        "\n",
        "When order matters (Python 3.7+ dicts maintain insertion order, but lists are still simpler).\n",
        "\n",
        "When data doesn’t require key–value pairs.\n",
        "\n",
        "When you need index-based access.\n",
        "\n",
        "**19. Why are dictionaries considered unordered, and how does that affect data retrieval**?\n",
        "\n",
        "Traditionally, dicts had no guaranteed order. Since Python 3.7, they preserve insertion order, but conceptually they are hash-based (not index-based).\n",
        "\n",
        "Retrieval is by key, not position.\n",
        "\n",
        "**20.Explain the difference between a list and a dictionary in terms of data retrieval**?\n",
        "\n",
        "List: Retrieval by index (mylist[0]). Slower for lookups.\n",
        "\n",
        "Dictionary: Retrieval by key (mydict[\"id\"]). Much faster (O(1))\n"
      ],
      "metadata": {
        "id": "7eIk5Wh1A1OI"
      }
    },
    {
      "cell_type": "markdown",
      "source": [
        "#Practical Question\n"
      ],
      "metadata": {
        "id": "yiqMr5XeG1_G"
      }
    },
    {
      "cell_type": "code",
      "source": [
        "#1.Write a code to create a string with your name and print it\"\n",
        "name = \"Bhoomika\"\n",
        "print(name)\n",
        "\n"
      ],
      "metadata": {
        "colab": {
          "base_uri": "https://localhost:8080/"
        },
        "id": "x08S4ERoHNGj",
        "outputId": "82ffdbbe-9478-4566-a22e-1b3bf966d61e"
      },
      "execution_count": 1,
      "outputs": [
        {
          "output_type": "stream",
          "name": "stdout",
          "text": [
            "Bhoomika\n"
          ]
        }
      ]
    },
    {
      "cell_type": "code",
      "source": [
        "#2. Write a code to find the length of the string \"Hello World\"?\n",
        "text = \"Hello World\"\n",
        "print(len(text))\n"
      ],
      "metadata": {
        "colab": {
          "base_uri": "https://localhost:8080/"
        },
        "id": "7xENTUmEI6ep",
        "outputId": "3578c60d-df47-461d-adf0-b57df6a077c4"
      },
      "execution_count": 3,
      "outputs": [
        {
          "output_type": "stream",
          "name": "stdout",
          "text": [
            "11\n"
          ]
        }
      ]
    },
    {
      "cell_type": "code",
      "source": [
        "# 3. Write a code to slice the first 3 characters from the string \"Python Programming\"?\n",
        "s = \"Python Programming\"\n",
        "print(s[:3])"
      ],
      "metadata": {
        "colab": {
          "base_uri": "https://localhost:8080/"
        },
        "collapsed": true,
        "id": "HLp1uklBJPme",
        "outputId": "e27f48af-be59-43c8-b375-297395301696"
      },
      "execution_count": 4,
      "outputs": [
        {
          "output_type": "stream",
          "name": "stdout",
          "text": [
            "Pyt\n"
          ]
        }
      ]
    },
    {
      "cell_type": "code",
      "source": [
        "#4Write a code to convert the string \"hello\" to uppercase?\n",
        "\n",
        "word = \"hello\"\n",
        "print(word.upper())\n",
        "\n"
      ],
      "metadata": {
        "colab": {
          "base_uri": "https://localhost:8080/"
        },
        "id": "Jv5mYy1aL-6m",
        "outputId": "b5b9a54a-e51d-463b-f63d-391bc980e1fb"
      },
      "execution_count": 5,
      "outputs": [
        {
          "output_type": "stream",
          "name": "stdout",
          "text": [
            "HELLO\n"
          ]
        }
      ]
    },
    {
      "cell_type": "code",
      "source": [
        "#5. Write a code to replace the word \"apple\" with \"orange\" in the string \"I like apple\"P\n",
        "\n",
        "sentence = \"I like apple\"\n",
        "print(sentence.replace(\"apple\", \"orange\"))\n"
      ],
      "metadata": {
        "colab": {
          "base_uri": "https://localhost:8080/"
        },
        "id": "R4wTOelOO3l5",
        "outputId": "a9262ee9-230f-4f33-f844-3a93be375d9a"
      },
      "execution_count": 6,
      "outputs": [
        {
          "output_type": "stream",
          "name": "stdout",
          "text": [
            "I like orange\n"
          ]
        }
      ]
    },
    {
      "cell_type": "code",
      "source": [
        "#6. Write a code to create a list with numbers 1 to 5 and print it.\n",
        "\n",
        "numbers = [1, 2, 3, 4, 5]\n",
        "print(numbers)\n"
      ],
      "metadata": {
        "colab": {
          "base_uri": "https://localhost:8080/"
        },
        "id": "JUi6N5e3RGem",
        "outputId": "452164f8-d82d-4a7e-c4e0-65d9b9e5c502"
      },
      "execution_count": 7,
      "outputs": [
        {
          "output_type": "stream",
          "name": "stdout",
          "text": [
            "[1, 2, 3, 4, 5]\n"
          ]
        }
      ]
    },
    {
      "cell_type": "code",
      "source": [
        "#7.  Write a code to append the number 10 to the list [1, 2, 3, 4]?\n",
        "\n",
        "my_list = [1, 2, 3, 4]\n",
        "my_list.append(10)\n",
        "print(my_list)\n",
        "\n"
      ],
      "metadata": {
        "colab": {
          "base_uri": "https://localhost:8080/"
        },
        "id": "5otyTVg6TJ2M",
        "outputId": "b98665a0-d151-4283-b0b9-364e8f096dad"
      },
      "execution_count": 8,
      "outputs": [
        {
          "output_type": "stream",
          "name": "stdout",
          "text": [
            "[1, 2, 3, 4, 10]\n"
          ]
        }
      ]
    },
    {
      "cell_type": "code",
      "source": [
        "#8. Write a code to remove the number 3 from the list [1, 2, 3, 4, 5]?\n",
        "\n",
        "nums = [1, 2, 3, 4, 5]\n",
        "nums.remove(3)\n",
        "print(nums)\n",
        "\n"
      ],
      "metadata": {
        "colab": {
          "base_uri": "https://localhost:8080/"
        },
        "id": "ENqc8iYpUFLS",
        "outputId": "71b65bff-60c9-493b-ea15-756e0c3032d5"
      },
      "execution_count": 9,
      "outputs": [
        {
          "output_type": "stream",
          "name": "stdout",
          "text": [
            "[1, 2, 4, 5]\n"
          ]
        }
      ]
    },
    {
      "cell_type": "code",
      "source": [
        "#9. Write a code to access the second element in the list ['a', 'b', 'c', 'd']?\n",
        "letters = ['a', 'b', 'c', 'd']\n",
        "print(letters[1])"
      ],
      "metadata": {
        "colab": {
          "base_uri": "https://localhost:8080/"
        },
        "id": "T3dH2QZIUiO4",
        "outputId": "2f26420c-4f33-4df5-89af-29d09ec63f27"
      },
      "execution_count": 10,
      "outputs": [
        {
          "output_type": "stream",
          "name": "stdout",
          "text": [
            "b\n"
          ]
        }
      ]
    },
    {
      "cell_type": "code",
      "source": [
        "#10.Write a code to reverse the list [10, 20, 30, 40, 50]\n",
        "\n",
        "lst = [10, 20, 30, 40, 50]\n",
        "lst.reverse()\n",
        "print(lst)\n",
        "#or: print(lst[::-1])\n"
      ],
      "metadata": {
        "colab": {
          "base_uri": "https://localhost:8080/"
        },
        "id": "CXBfblESWM_R",
        "outputId": "657fa909-d594-4313-d281-a7e67e09e1bb"
      },
      "execution_count": 16,
      "outputs": [
        {
          "output_type": "stream",
          "name": "stdout",
          "text": [
            "[50, 40, 30, 20, 10]\n"
          ]
        }
      ]
    },
    {
      "cell_type": "code",
      "source": [
        "#11.Write a code to create a tuple with the elements 100, 200, 300 and print it\n",
        "\n",
        "t = (100, 200, 300)\n",
        "print(t)\n",
        "\n"
      ],
      "metadata": {
        "colab": {
          "base_uri": "https://localhost:8080/"
        },
        "id": "1htia2G4WdxD",
        "outputId": "a3d1f956-fa84-4872-c8dc-c238b3ab9e3c"
      },
      "execution_count": 12,
      "outputs": [
        {
          "output_type": "stream",
          "name": "stdout",
          "text": [
            "(100, 200, 300)\n"
          ]
        }
      ]
    },
    {
      "cell_type": "code",
      "source": [
        "#12.  Write a code to access the second-to-last element of the tuple ('red', 'green', 'blue', 'yellow').\n",
        "colors = ('red', 'green', 'blue', 'yellow')\n",
        "print(colors[-2])\n",
        "\n"
      ],
      "metadata": {
        "colab": {
          "base_uri": "https://localhost:8080/"
        },
        "id": "s8NLovoDWxcz",
        "outputId": "084db54e-f17f-415e-b12c-a3a6a950d83f"
      },
      "execution_count": 13,
      "outputs": [
        {
          "output_type": "stream",
          "name": "stdout",
          "text": [
            "blue\n"
          ]
        }
      ]
    },
    {
      "cell_type": "code",
      "source": [
        "#13. Write a code to find the minimum number in the tuple (10, 20, 5, 15)?\n",
        "nums = (10, 20, 5, 15)\n",
        "print(min(nums))\n"
      ],
      "metadata": {
        "colab": {
          "base_uri": "https://localhost:8080/"
        },
        "id": "lawnts9yXEdl",
        "outputId": "7fa6f423-84fc-4303-c9bb-5269e6ca87b1"
      },
      "execution_count": 14,
      "outputs": [
        {
          "output_type": "stream",
          "name": "stdout",
          "text": [
            "5\n"
          ]
        }
      ]
    },
    {
      "cell_type": "code",
      "source": [
        "#14. Write a code to find the index of the element \"cat\" in the tuple ('dog', 'cat', 'rabbit').\n",
        "\n",
        "animals = ('dog', 'cat', 'rabbit')\n",
        "print(animals.index(\"cat\"))   # Output: 1\n",
        "\n"
      ],
      "metadata": {
        "colab": {
          "base_uri": "https://localhost:8080/"
        },
        "id": "5lOGP6U2XsSO",
        "outputId": "7f2863aa-8333-423e-db63-fe7acefdb90f"
      },
      "execution_count": 18,
      "outputs": [
        {
          "output_type": "stream",
          "name": "stdout",
          "text": [
            "1\n"
          ]
        }
      ]
    },
    {
      "cell_type": "code",
      "source": [
        "#15.  Write a code to create a tuple containing three different fruits and check if \"kiwi\" is in it.\n",
        "\n",
        "fruits = (\"apple\", \"banana\", \"mango\")\n",
        "print(\"kiwi\" in fruits)   # Output: False\n",
        "\n"
      ],
      "metadata": {
        "colab": {
          "base_uri": "https://localhost:8080/"
        },
        "id": "8qYvq99yYbz2",
        "outputId": "44f943b4-9311-40cc-938c-27a9f27af727"
      },
      "execution_count": 19,
      "outputs": [
        {
          "output_type": "stream",
          "name": "stdout",
          "text": [
            "False\n"
          ]
        }
      ]
    },
    {
      "cell_type": "code",
      "source": [
        "#16. Write a code to create a set with the elements 'a', 'b', 'c' and print it?\n",
        "\n",
        "s = {'a', 'b', 'c'}\n",
        "print(s)\n"
      ],
      "metadata": {
        "colab": {
          "base_uri": "https://localhost:8080/"
        },
        "id": "vOxFTWz5c-1B",
        "outputId": "63cffa6f-55b5-444d-a9e5-9e71d4cc43b0"
      },
      "execution_count": 20,
      "outputs": [
        {
          "output_type": "stream",
          "name": "stdout",
          "text": [
            "{'a', 'b', 'c'}\n"
          ]
        }
      ]
    },
    {
      "cell_type": "code",
      "source": [
        "#17. Write a code to clear all elements from the set {1, 2, 3, 4, 5}.\n",
        "\n",
        "s = {1, 2, 3, 4, 5}\n",
        "s.clear()\n",
        "print(s)\n"
      ],
      "metadata": {
        "colab": {
          "base_uri": "https://localhost:8080/"
        },
        "id": "IuMDiMBQdG5K",
        "outputId": "970f4d4e-0772-45b1-f7e5-25e754cfe3ad"
      },
      "execution_count": 21,
      "outputs": [
        {
          "output_type": "stream",
          "name": "stdout",
          "text": [
            "set()\n"
          ]
        }
      ]
    },
    {
      "cell_type": "code",
      "source": [
        "#18. Write a code to remove the element 4 from the set {1, 2, 3, 4}?\n",
        "\n",
        "s = {1, 2, 3, 4}\n",
        "s.remove(4)\n",
        "print(s)\n"
      ],
      "metadata": {
        "colab": {
          "base_uri": "https://localhost:8080/"
        },
        "id": "zPaI0EfOdOc9",
        "outputId": "9c4ecafe-2a82-4b29-8263-03f5ab550143"
      },
      "execution_count": 22,
      "outputs": [
        {
          "output_type": "stream",
          "name": "stdout",
          "text": [
            "{1, 2, 3}\n"
          ]
        }
      ]
    },
    {
      "cell_type": "code",
      "source": [
        "#19. Write a code to find the union of two sets {1, 2, 3} and {3, 4, 5}?\n",
        "\n",
        "a = {1, 2, 3}\n",
        "b = {3, 4, 5}\n",
        "print(a.union(b))\n"
      ],
      "metadata": {
        "colab": {
          "base_uri": "https://localhost:8080/"
        },
        "id": "gQFMGywCdXaL",
        "outputId": "ab3db3e7-0858-493d-ff55-3ce687ee88ca"
      },
      "execution_count": 23,
      "outputs": [
        {
          "output_type": "stream",
          "name": "stdout",
          "text": [
            "{1, 2, 3, 4, 5}\n"
          ]
        }
      ]
    },
    {
      "cell_type": "code",
      "source": [
        "20. #Write a code to find the intersection of two sets {1, 2, 3} and {2, 3, 4}.\n",
        "\n",
        "a = {1, 2, 3}\n",
        "b = {2, 3, 4}\n",
        "print(a.intersection(b))\n"
      ],
      "metadata": {
        "colab": {
          "base_uri": "https://localhost:8080/"
        },
        "id": "weFCzlEhdoXa",
        "outputId": "c99c1bf7-a255-41b7-d942-a309fca592ad"
      },
      "execution_count": 24,
      "outputs": [
        {
          "output_type": "stream",
          "name": "stdout",
          "text": [
            "{2, 3}\n"
          ]
        }
      ]
    },
    {
      "cell_type": "code",
      "source": [
        "#21. Write a code to create a dictionary with the keys \"name\", \"age\", and \"city\", and print it?\n",
        "\n",
        "person = {\"name\": \"John\", \"age\": 25, \"city\": \"New York\"}\n",
        "print(person)\n"
      ],
      "metadata": {
        "colab": {
          "base_uri": "https://localhost:8080/"
        },
        "id": "ABG8wtb2dyT7",
        "outputId": "d06d861d-57cf-44af-8cbd-848a62fa2e0a"
      },
      "execution_count": 25,
      "outputs": [
        {
          "output_type": "stream",
          "name": "stdout",
          "text": [
            "{'name': 'John', 'age': 25, 'city': 'New York'}\n"
          ]
        }
      ]
    },
    {
      "cell_type": "code",
      "source": [
        "#22. Write a code to add a new key-value pair \"country\": \"USA\" to the dictionary {'name': 'John', 'age': 25}.\n",
        "\n",
        "person = {'name': 'John', 'age': 25}\n",
        "person[\"country\"] = \"USA\"\n",
        "print(person)\n"
      ],
      "metadata": {
        "colab": {
          "base_uri": "https://localhost:8080/"
        },
        "id": "3R1eyUbid9Ni",
        "outputId": "d7149c96-4e51-4d5c-f703-869e272e99c0"
      },
      "execution_count": 26,
      "outputs": [
        {
          "output_type": "stream",
          "name": "stdout",
          "text": [
            "{'name': 'John', 'age': 25, 'country': 'USA'}\n"
          ]
        }
      ]
    },
    {
      "cell_type": "code",
      "source": [
        "#23. Write a code to access the value associated with the key \"name\" in the dictionary {'name': 'Alice', 'age': 30}.\n",
        "\n",
        "person = {'name': 'Alice', 'age': 30}\n",
        "print(person[\"name\"])   # Output: Alice\n"
      ],
      "metadata": {
        "colab": {
          "base_uri": "https://localhost:8080/"
        },
        "id": "O8vatzF8eEbr",
        "outputId": "1ab16298-df65-4834-9554-67c4e296e350"
      },
      "execution_count": 27,
      "outputs": [
        {
          "output_type": "stream",
          "name": "stdout",
          "text": [
            "Alice\n"
          ]
        }
      ]
    },
    {
      "cell_type": "code",
      "source": [
        "#24. Write a code to remove the key \"age\" from the dictionary {'name': 'Bob', 'age': 22, 'city': 'New York'}.\n",
        "\n",
        "person = {'name': 'Bob', 'age': 22, 'city': 'New York'}\n",
        "person.pop(\"age\")\n",
        "print(person)\n"
      ],
      "metadata": {
        "colab": {
          "base_uri": "https://localhost:8080/"
        },
        "id": "VAafcC5deKcZ",
        "outputId": "f4c3f3d0-2379-46d4-f197-76ebae7c083f"
      },
      "execution_count": 28,
      "outputs": [
        {
          "output_type": "stream",
          "name": "stdout",
          "text": [
            "{'name': 'Bob', 'city': 'New York'}\n"
          ]
        }
      ]
    },
    {
      "cell_type": "code",
      "source": [
        "#25. Write a code to check if the key \"city\" exists in the dictionary {'name': 'Alice', 'city': 'Paris'}.\n",
        "\n",
        "person = {'name': 'Alice', 'city': 'Paris'}\n",
        "print(\"city\" in person)\n"
      ],
      "metadata": {
        "colab": {
          "base_uri": "https://localhost:8080/"
        },
        "id": "YkW2JZq-eTPP",
        "outputId": "32923a92-7278-4a6f-8ec6-c5470b3ef4cf"
      },
      "execution_count": 29,
      "outputs": [
        {
          "output_type": "stream",
          "name": "stdout",
          "text": [
            "True\n"
          ]
        }
      ]
    },
    {
      "cell_type": "code",
      "source": [
        "#26. Write a code to create a list, a tuple, and a dictionary, and print them all.\n",
        "my_list = [1, 2, 3]\n",
        "my_tuple = (4, 5, 6)\n",
        "my_dict = {\"a\": 10, \"b\": 20}\n",
        "print(my_list, my_tuple, my_dict)\n"
      ],
      "metadata": {
        "colab": {
          "base_uri": "https://localhost:8080/"
        },
        "id": "n1OPSnwWeZaw",
        "outputId": "0cc1507c-f8ae-4267-b7f3-601696269dad"
      },
      "execution_count": 30,
      "outputs": [
        {
          "output_type": "stream",
          "name": "stdout",
          "text": [
            "[1, 2, 3] (4, 5, 6) {'a': 10, 'b': 20}\n"
          ]
        }
      ]
    },
    {
      "cell_type": "code",
      "source": [
        "#27. Write a code to create a list of 5 random numbers between 1 and 100, sort it in ascending order, and print the result.(replaced).\n",
        "import random\n",
        "nums = random.sample(range(1, 101), 5)\n",
        "nums.sort()\n",
        "print(nums)\n"
      ],
      "metadata": {
        "colab": {
          "base_uri": "https://localhost:8080/"
        },
        "id": "ydC60cu0eiIp",
        "outputId": "ff205073-aa65-4bdf-ea60-404ad41098e2"
      },
      "execution_count": 33,
      "outputs": [
        {
          "output_type": "stream",
          "name": "stdout",
          "text": [
            "[9, 55, 58, 77, 80]\n"
          ]
        }
      ]
    },
    {
      "cell_type": "code",
      "source": [
        "#28. Write a code to create a list with strings and print the element at the third index.\n",
        "\n",
        "words = [\"apple\", \"banana\", \"cherry\", \"date\", \"elderberry\"]\n",
        "print(words[3])\n"
      ],
      "metadata": {
        "colab": {
          "base_uri": "https://localhost:8080/"
        },
        "id": "yuTrfQ-AeuyV",
        "outputId": "5c8a24cb-ca97-42da-b160-e1244401a322"
      },
      "execution_count": 32,
      "outputs": [
        {
          "output_type": "stream",
          "name": "stdout",
          "text": [
            "date\n"
          ]
        }
      ]
    },
    {
      "cell_type": "code",
      "source": [
        "#29. Write a code to combine two dictionaries into one and print the result.\n",
        "dict1 = {\"a\": 1, \"b\": 2}\n",
        "dict2 = {\"c\": 3, \"d\": 4}\n",
        "combined = {**dict1, **dict2}\n",
        "print(combined)\n"
      ],
      "metadata": {
        "colab": {
          "base_uri": "https://localhost:8080/"
        },
        "id": "CpoRKi0Ae5ND",
        "outputId": "f8ed69c2-3542-466a-9f8b-a86466d6a0dc"
      },
      "execution_count": 34,
      "outputs": [
        {
          "output_type": "stream",
          "name": "stdout",
          "text": [
            "{'a': 1, 'b': 2, 'c': 3, 'd': 4}\n"
          ]
        }
      ]
    },
    {
      "cell_type": "code",
      "source": [
        "#30. Write a code to convert a list of strings into a set?\n",
        "\n",
        "words = [\"apple\", \"banana\", \"apple\", \"cherry\"]\n",
        "words_set = set(words)\n",
        "print(words_set)"
      ],
      "metadata": {
        "colab": {
          "base_uri": "https://localhost:8080/"
        },
        "id": "1EYpHxJEfFk6",
        "outputId": "be31d2c1-2a3a-401e-94dd-81ffc81d5356"
      },
      "execution_count": 36,
      "outputs": [
        {
          "output_type": "stream",
          "name": "stdout",
          "text": [
            "{'cherry', 'apple', 'banana'}\n"
          ]
        }
      ]
    }
  ],
  "metadata": {
    "colab": {
      "toc_visible": true,
      "provenance": []
    },
    "kernelspec": {
      "display_name": "Python 3",
      "name": "python3"
    }
  },
  "nbformat": 4,
  "nbformat_minor": 0
}