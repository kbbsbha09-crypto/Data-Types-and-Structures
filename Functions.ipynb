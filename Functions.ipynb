{
  "nbformat": 4,
  "nbformat_minor": 0,
  "metadata": {
    "colab": {
      "provenance": [],
      "authorship_tag": "ABX9TyOjGfXuy/5UQxG3SWUjcYkD",
      "include_colab_link": true
    },
    "kernelspec": {
      "name": "python3",
      "display_name": "Python 3"
    },
    "language_info": {
      "name": "python"
    }
  },
  "cells": [
    {
      "cell_type": "markdown",
      "metadata": {
        "id": "view-in-github",
        "colab_type": "text"
      },
      "source": [
        "<a href=\"https://colab.research.google.com/github/kbbsbha09-crypto/Data-Types-and-Structures/blob/main/Functions.ipynb\" target=\"_parent\"><img src=\"https://colab.research.google.com/assets/colab-badge.svg\" alt=\"Open In Colab\"/></a>"
      ]
    },
    {
      "cell_type": "markdown",
      "source": [
        "Theory\n",
        "\n",
        "\n",
        "\n",
        "1. What is the difference between a function and a method in Python?\n",
        "- Function: Defined using def, independent of objects.\n",
        "\n",
        "- Method: A function that belongs to an object/class and is called using object.method().\n",
        "\n",
        "2. Explain the concept of function arguments and parameters in Python.\n",
        "- Parameters: Variables listed in function definition.\n",
        "\n",
        "- Arguments: Values passed while calling function.\n",
        "\n",
        "3. What are the different ways to define and call a function in Python?\n",
        "- def keyword (normal function).\n",
        "\n",
        "- lambda (anonymous function).\n",
        "\n",
        "   Function call: func_name(args)\n",
        "\n",
        "4. What is the purpose of the `return` statement in a Python function?\n",
        "- Sends value back to the caller, ends function execution.\n",
        "\n",
        "5. What are iterators in Python and how do they differ from iterables?\n",
        "- Iterable: Can be looped over (list, tuple, str).\n",
        "\n",
        "- Iterator: Object with __iter__() and __next__(); produces values one at a time.\n",
        "\n",
        "6. Explain the concept of generators in Python and how they are defined.\n",
        "- Special functions using yield.\n",
        "\n",
        "- Produce values lazily (on demand).\n",
        "\n",
        "7. What are the advantages of using generators over regular functions?\n",
        "- Memory efficient.\n",
        "\n",
        "- Lazy evaluation.\n",
        "\n",
        "- Infinite sequence handling.    \n",
        "\n",
        "8. What is a lambda function in Python and when is it typically used?\n",
        "- Anonymous one-liner functions.\n",
        "\n",
        "- Used for short operations like in map(), filter().\n",
        "\n",
        "9. Explain the purpose and usage of the `map()` function in Python.\n",
        "- Applies a function to every item of an iterable.\n",
        "\n",
        "   ex -    list(map(lambda x: x**2, [1,2,3]))\n",
        "        -[1,4,9]\n",
        "\n",
        "10. What is the difference between `map()`, `reduce()`, and `filter()` functions in Python?\n",
        "- map(func, iterable) → transform.\n",
        "\n",
        "- filter(func, iterable) → select.\n",
        "\n",
        "- reduce(func, iterable) → aggregate (from functools).\n",
        "\n",
        "\n"
      ],
      "metadata": {
        "id": "J7VqpmPR4z5V"
      }
    },
    {
      "cell_type": "code",
      "source": [
        "#1. Write a Python function that takes a list of numbers as input and returns the sum of all even numbers in the list.\n",
        "def sum_of_even(numbers):\n",
        "    return sum(num for num in numbers if num % 2 == 0)\n",
        "\n",
        "# Example\n",
        "print(sum_of_even([1, 2, 3, 4, 5, 6]))\n"
      ],
      "metadata": {
        "colab": {
          "base_uri": "https://localhost:8080/"
        },
        "id": "ZfRZY_bV6uhR",
        "outputId": "e49faa99-9bdb-462a-ed4b-9be0a9126c33"
      },
      "execution_count": 1,
      "outputs": [
        {
          "output_type": "stream",
          "name": "stdout",
          "text": [
            "12\n"
          ]
        }
      ]
    },
    {
      "cell_type": "code",
      "source": [
        "#2. Create a Python function that accepts a string and returns the reverse of that string.\n",
        "def reverse_string(s):\n",
        "    return s[::-1]\n",
        "\n",
        "# Example\n",
        "print(reverse_string(\"Python\"))\n"
      ],
      "metadata": {
        "colab": {
          "base_uri": "https://localhost:8080/"
        },
        "id": "m8C8pJoN7Du0",
        "outputId": "9e9f5550-85b9-4aa7-8c58-93738bf0470e"
      },
      "execution_count": 2,
      "outputs": [
        {
          "output_type": "stream",
          "name": "stdout",
          "text": [
            "nohtyP\n"
          ]
        }
      ]
    },
    {
      "cell_type": "code",
      "source": [
        "#3. Implement a Python function that takes a list of integers and returns a new list containing the squares of each number.\n",
        "def squares_list(nums):\n",
        "    return [x**2 for x in nums]\n",
        "\n",
        "# Example\n",
        "print(squares_list([1, 2, 3, 4]))"
      ],
      "metadata": {
        "colab": {
          "base_uri": "https://localhost:8080/"
        },
        "id": "WfWVly6U7O_h",
        "outputId": "edcfd41e-75e6-4f3d-83eb-62a8052fe61f"
      },
      "execution_count": 3,
      "outputs": [
        {
          "output_type": "stream",
          "name": "stdout",
          "text": [
            "[1, 4, 9, 16]\n"
          ]
        }
      ]
    },
    {
      "cell_type": "code",
      "source": [
        "#4. Write a Python function that checks if a given number is prime or not from 1 to 200.\n",
        "def is_prime(n):\n",
        "    if n <= 1:\n",
        "        return False\n",
        "    for i in range(2, int(n**0.5)+1):\n",
        "        if n % i == 0:\n",
        "            return False\n",
        "    return True\n",
        "\n",
        "# Print primes from 1 to 200\n",
        "primes = [n for n in range(1, 201) if is_prime(n)]\n",
        "print(primes)\n"
      ],
      "metadata": {
        "colab": {
          "base_uri": "https://localhost:8080/"
        },
        "id": "kSZ9vyEy7kCt",
        "outputId": "969cf6c4-9fd2-4197-eabd-55b1023e1d3e"
      },
      "execution_count": 4,
      "outputs": [
        {
          "output_type": "stream",
          "name": "stdout",
          "text": [
            "[2, 3, 5, 7, 11, 13, 17, 19, 23, 29, 31, 37, 41, 43, 47, 53, 59, 61, 67, 71, 73, 79, 83, 89, 97, 101, 103, 107, 109, 113, 127, 131, 137, 139, 149, 151, 157, 163, 167, 173, 179, 181, 191, 193, 197, 199]\n"
          ]
        }
      ]
    },
    {
      "cell_type": "code",
      "source": [
        "#5. Create an iterator class in Python that generates the Fibonacci sequence up to a specified number of terms\n",
        "\n",
        "class FibonacciIterator:\n",
        "    def __init__(self, max_terms):\n",
        "        self.max_terms = max_terms\n",
        "        self.count = 0\n",
        "        self.a, self.b = 0, 1\n",
        "\n",
        "    def __iter__(self):\n",
        "        return self\n",
        "\n",
        "    def __next__(self):\n",
        "        if self.count >= self.max_terms:\n",
        "            raise StopIteration\n",
        "        value = self.a\n",
        "        self.a, self.b = self.b, self.a + self.b\n",
        "        self.count += 1\n",
        "        return value\n",
        "\n",
        "# Example\n",
        "for num in FibonacciIterator(10):\n",
        "    print(num, end=\" \")\n",
        "\n"
      ],
      "metadata": {
        "colab": {
          "base_uri": "https://localhost:8080/"
        },
        "id": "8RWIFPEL7wcq",
        "outputId": "d2fb4224-7688-46a9-cbb2-6c838dd11a19"
      },
      "execution_count": 5,
      "outputs": [
        {
          "output_type": "stream",
          "name": "stdout",
          "text": [
            "0 1 1 2 3 5 8 13 21 34 "
          ]
        }
      ]
    },
    {
      "cell_type": "code",
      "source": [
        "#6. Write a generator function in Python that yields the powers of 2 up to a given exponent.\n",
        "def powers_of_two(n):\n",
        "    for i in range(n+1):\n",
        "        yield 2**i\n",
        "\n",
        "# Example\n",
        "for val in powers_of_two(5):\n",
        "    print(val, end=\" \")  # 1 2 4 8 16 32\n"
      ],
      "metadata": {
        "colab": {
          "base_uri": "https://localhost:8080/"
        },
        "id": "VUhUe0KE78w9",
        "outputId": "ec839ff9-5e35-44ea-ccc4-1a9043e1d96f"
      },
      "execution_count": 6,
      "outputs": [
        {
          "output_type": "stream",
          "name": "stdout",
          "text": [
            "1 2 4 8 16 32 "
          ]
        }
      ]
    },
    {
      "cell_type": "code",
      "source": [
        "#7. Implement a generator function that reads a file line by line and yields each line as a string.\n",
        "def read_file_lines(filename):\n",
        "    with open(filename, \"r\") as f:\n",
        "        for line in f:\n",
        "            yield line.strip()\n",
        "\n",
        "# Example (assuming sample.txt exists)\n",
        "# for line in read_file_lines(\"sample.txt\"):\n",
        "#     print(line)\n"
      ],
      "metadata": {
        "id": "Qxjhmxtc8E8O"
      },
      "execution_count": 7,
      "outputs": []
    }
  ]
}